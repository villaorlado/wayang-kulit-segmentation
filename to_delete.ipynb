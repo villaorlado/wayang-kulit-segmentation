{
 "cells": [
  {
   "cell_type": "code",
   "execution_count": null,
   "metadata": {},
   "outputs": [],
   "source": [
    "# We want to generate the splits\n",
    "import os\n",
    "import random\n",
    "import math\n",
    "\n",
    "# Parameter\n",
    "labelling_results_dir = \"data/labelling_results/labellingResults_60secsPerFrame_160px120px\"\n",
    "splits_dir = \"data/splits\"\n",
    "training_ratio = 0.8\n",
    "\n",
    "# Consolidate list of video_ids, sort, then split to test_train\n",
    "video_ids = os.listdir(labelling_results_dir)\n",
    "video_ids = [video_id.split(\".\")[0] for video_id in video_ids if video_id.endswith(\".json\")]\n",
    "random.shuffle(video_ids)\n",
    "train_video_ids = video_ids[:math.floor(training_ratio*len(video_ids))]\n",
    "test_video_ids = video_ids[math.floor(training_ratio*len(video_ids)):]\n",
    "\n",
    "# Write splits to file\n",
    "with open(f'{splits_dir}/train.1.bundle', 'w') as file:\n",
    "    for video_id in train_video_ids:\n",
    "        file.write(f\"{video_id}\\n\")\n",
    "        \n",
    "with open(f'{splits_dir}/test.1.bundle', 'w') as file:\n",
    "    for video_id in test_video_ids:\n",
    "        file.write(f\"{video_id}\\n\")"
   ]
  },
  {
   "cell_type": "code",
   "execution_count": null,
   "metadata": {},
   "outputs": [
    {
     "data": {
      "text/plain": [
       "['NIL', 'Interlude']"
      ]
     },
     "execution_count": 43,
     "metadata": {},
     "output_type": "execute_result"
    }
   ],
   "source": [
    "# We also want to write the mapping\n",
    "import json \n",
    "\n",
    "# Extract class labels\n",
    "unique_class_labels = [\"NIL\"]\n",
    "for video_id in video_ids:\n",
    "\tvideo_id = video_ids[0]\n",
    "\n",
    "\t# Open json file\t\n",
    "\twith open(f'{labelling_results_dir}/{video_id}.json','r') as file:\n",
    "\t\tdata = json.load(file)\n",
    "\n",
    "\t# Read data\n",
    "\tlocal_class_labels = list(data['data'].keys())\n",
    "\n",
    "\t# Add to list\n",
    "\tfor local_class_label in local_class_labels:\n",
    "\t\tif (local_class_label in unique_class_labels) == False:\n",
    "\t\t\tunique_class_labels.append(local_class_label)\n",
    "\n",
    "# Write unique class labels\n",
    "with open(f'{labelling_results_dir}/mapping.txt','w') as file:\n",
    "\n",
    "\n",
    "\n",
    "\t\n",
    "    "
   ]
  },
  {
   "cell_type": "code",
   "execution_count": 32,
   "metadata": {},
   "outputs": [
    {
     "data": {
      "text/plain": [
       "False"
      ]
     },
     "execution_count": 32,
     "metadata": {},
     "output_type": "execute_result"
    }
   ],
   "source": [
    "unique_class_labels = []\n",
    "\n",
    "\n",
    "'Interlude' in unique_class_labels"
   ]
  },
  {
   "cell_type": "code",
   "execution_count": null,
   "metadata": {},
   "outputs": [
    {
     "data": {
      "text/plain": [
       "True"
      ]
     },
     "execution_count": 28,
     "metadata": {},
     "output_type": "execute_result"
    }
   ],
   "source": []
  },
  {
   "cell_type": "code",
   "execution_count": null,
   "metadata": {},
   "outputs": [],
   "source": []
  }
 ],
 "metadata": {
  "kernelspec": {
   "display_name": "wayang_kulit_2",
   "language": "python",
   "name": "python3"
  },
  "language_info": {
   "codemirror_mode": {
    "name": "ipython",
    "version": 3
   },
   "file_extension": ".py",
   "mimetype": "text/x-python",
   "name": "python",
   "nbconvert_exporter": "python",
   "pygments_lexer": "ipython3",
   "version": "3.12.3"
  }
 },
 "nbformat": 4,
 "nbformat_minor": 2
}
