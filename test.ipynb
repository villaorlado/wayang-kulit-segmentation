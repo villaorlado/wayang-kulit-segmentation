{
 "cells": [
  {
   "cell_type": "code",
   "execution_count": null,
   "metadata": {},
   "outputs": [
    {
     "name": "stdout",
     "output_type": "stream",
     "text": [
      "37\n"
     ]
    }
   ],
   "source": [
    "import csv\n",
    "import json \n",
    "import re\n",
    "\n",
    "# Arguments\n",
    "results_path = \"data/prediction_results/thumbnails_60secsPerFrame_320px240px_preds.json\"\n",
    "output_path = \"data/prediction_results/thumbnails_60secsPerFrame_320px240px_preds.csv\"\n",
    "\n",
    "# Read prediction results\n",
    "with open(results_path,\"r\") as file:\n",
    "\tprediction_results = json.load(file)\n",
    "\n",
    "# Determine frames per second\n",
    "results_path = \"data/prediction_results/thumbnails_60secsPerFrame_320px240px_preds.json\"\n",
    "match = re.search(r\"thumbnails_(.*?)secsPerFrame\", results_path)\n",
    "if match:\n",
    "\tsecsPerFrame = match.group(1)\n",
    "else:\n",
    "\traise ValueError(\"Could not determine secsPerFrame!\")\n",
    "\n",
    "# Check if metrics csv file exists\n",
    "try:\n",
    "\twith open(output_path, mode='r') as file:\n",
    "\t\traise FileExistsError(\"File already exists!\")\n",
    "except:\n",
    "\tpass\n",
    "\n",
    "# Write to csv file\n",
    "with open(output_path, mode='w') as file:\n",
    "\twriter = csv.writer(file)\n",
    "\twriter.writerow([\"video_id\", \"interlude_frames\", \"total_frames\", \"interlude_duration\"])\n",
    "\tfor video_id in prediction_results.keys():\n",
    "\n",
    "\t\t# Calculate number of interlude and total frames\n",
    "\t\tinterlude_frames = sum(prediction_results[video_id]['pred'])\n",
    "\t\ttotal_frames = len(prediction_results[video_id]['pred'])\n",
    "\t\tinterlude_duration = interlude_frames * secsPerFrame\n",
    "\n",
    "\t\t# Write to csv file\n",
    "\t\twriter.writerow([video_id, interlude_frames, total_frames, interlude_duration])\n",
    "\n",
    "\t\n",
    "\t"
   ]
  },
  {
   "cell_type": "code",
   "execution_count": null,
   "metadata": {},
   "outputs": [
    {
     "name": "stdout",
     "output_type": "stream",
     "text": [
      "Value found: 60\n"
     ]
    },
    {
     "data": {
      "text/plain": [
       "'60'"
      ]
     },
     "execution_count": 7,
     "metadata": {},
     "output_type": "execute_result"
    }
   ],
   "source": []
  },
  {
   "cell_type": "code",
   "execution_count": null,
   "metadata": {},
   "outputs": [],
   "source": []
  }
 ],
 "metadata": {
  "kernelspec": {
   "display_name": "wayang_kulit_2",
   "language": "python",
   "name": "python3"
  },
  "language_info": {
   "codemirror_mode": {
    "name": "ipython",
    "version": 3
   },
   "file_extension": ".py",
   "mimetype": "text/x-python",
   "name": "python",
   "nbconvert_exporter": "python",
   "pygments_lexer": "ipython3",
   "version": "3.12.3"
  }
 },
 "nbformat": 4,
 "nbformat_minor": 2
}
