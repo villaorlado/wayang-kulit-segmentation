{
 "cells": [
  {
   "cell_type": "markdown",
   "metadata": {},
   "source": [
    "# Frame-by-Frame Prediction Results to CSV Conversion for Video Analysis\n",
    "\n",
    "This Jupyter notebook reads video prediction results from a JSON file, analyzes frame intervals, and exports the data to a structured CSV file for further analysis. It includes functionality to dynamically determine frames per second (FPS) from file naming conventions, calculate frame-based metrics (such as the number of interlude frames and total frames), and compute the interlude duration based on frames-per-second. The output CSV provides a summary for each video, including the total and interlude frames and the duration of interlude segments, enabling efficient post-processing for video data analysis and visualization tasks."
   ]
  },
  {
   "cell_type": "code",
   "execution_count": 2,
   "metadata": {},
   "outputs": [],
   "source": [
    "import csv\n",
    "import json \n",
    "import re\n",
    "\n",
    "# Arguments\n",
    "results_path = \"data/prediction_results/thumbnails_60secsPerFrame_320px240px_preds.json\"\n",
    "output_path = \"data/prediction_results/thumbnails_60secsPerFrame_320px240px_preds.csv\"\n",
    "\n",
    "# Read prediction results\n",
    "with open(results_path,\"r\") as file:\n",
    "\tprediction_results = json.load(file)\n",
    "\n",
    "# Determine frames per second\n",
    "results_path = \"data/prediction_results/thumbnails_60secsPerFrame_320px240px_preds.json\"\n",
    "match = re.search(r\"thumbnails_(.*?)secsPerFrame\", results_path)\n",
    "if match:\n",
    "\tsecsPerFrame = match.group(1)\n",
    "else:\n",
    "\traise ValueError(\"Could not determine secsPerFrame!\")\n",
    "\n",
    "# Check if metrics csv file exists\n",
    "try:\n",
    "\twith open(output_path, mode='r') as file:\n",
    "\t\traise FileExistsError(\"File already exists!\")\n",
    "except:\n",
    "\tpass\n",
    "\n",
    "# Write to csv file\n",
    "with open(output_path, mode='w') as file:\n",
    "\twriter = csv.writer(file)\n",
    "\twriter.writerow([\"video_id\", \"interlude_frames\", \"total_frames\", \"interlude_duration\"])\n",
    "\tfor video_id in prediction_results.keys():\n",
    "\n",
    "\t\t# Calculate number of interlude and total frames\n",
    "\t\tinterlude_frames = sum(prediction_results[video_id]['pred'])\n",
    "\t\ttotal_frames = len(prediction_results[video_id]['pred'])\n",
    "\t\tinterlude_duration = interlude_frames * secsPerFrame\n",
    "\n",
    "\t\t# Write to csv file\n",
    "\t\twriter.writerow([video_id, interlude_frames, total_frames, interlude_duration])"
   ]
  },
  {
   "cell_type": "code",
   "execution_count": null,
   "metadata": {},
   "outputs": [],
   "source": []
  }
 ],
 "metadata": {
  "kernelspec": {
   "display_name": "wayang_kulit_2",
   "language": "python",
   "name": "python3"
  },
  "language_info": {
   "codemirror_mode": {
    "name": "ipython",
    "version": 3
   },
   "file_extension": ".py",
   "mimetype": "text/x-python",
   "name": "python",
   "nbconvert_exporter": "python",
   "pygments_lexer": "ipython3",
   "version": "3.12.3"
  }
 },
 "nbformat": 4,
 "nbformat_minor": 2
}
